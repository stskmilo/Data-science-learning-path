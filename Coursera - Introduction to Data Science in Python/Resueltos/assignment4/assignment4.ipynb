{
 "cells": [
  {
   "cell_type": "markdown",
   "metadata": {
    "deletable": false,
    "editable": false,
    "nbgrader": {
     "checksum": "48770f8b5f5d3062d3badd51fcafc401",
     "grade": false,
     "grade_id": "cell-a6c4f74309fc2379",
     "locked": true,
     "schema_version": 1,
     "solution": false
    }
   },
   "source": [
    "# Assignment 4\n",
    "## Description\n",
    "In this assignment you must read in a file of metropolitan regions and associated sports teams from [assets/wikipedia_data.html](assets/wikipedia_data.html) and answer some questions about each metropolitan region. Each of these regions may have one or more teams from the \"Big 4\": NFL (football, in [assets/nfl.csv](assets/nfl.csv)), MLB (baseball, in [assets/mlb.csv](assets/mlb.csv)), NBA (basketball, in [assets/nba.csv](assets/nba.csv) or NHL (hockey, in [assets/nhl.csv](assets/nhl.csv)). Please keep in mind that all questions are from the perspective of the metropolitan region, and that this file is the \"source of authority\" for the location of a given sports team. Thus teams which are commonly known by a different area (e.g. \"Oakland Raiders\") need to be mapped into the metropolitan region given (e.g. San Francisco Bay Area). This will require some human data understanding outside of the data you've been given (e.g. you will have to hand-code some names, and might need to google to find out where teams are)!\n",
    "\n",
    "For each sport I would like you to answer the question: **what is the win/loss ratio's correlation with the population of the city it is in?** Win/Loss ratio refers to the number of wins over the number of wins plus the number of losses. Remember that to calculate the correlation with [`pearsonr`](https://docs.scipy.org/doc/scipy/reference/generated/scipy.stats.pearsonr.html), so you are going to send in two ordered lists of values, the populations from the wikipedia_data.html file and the win/loss ratio for a given sport in the same order. Average the win/loss ratios for those cities which have multiple teams of a single sport. Each sport is worth an equal amount in this assignment (20%\\*4=80%) of the grade for this assignment. You should only use data **from year 2018** for your analysis -- this is important!\n",
    "\n",
    "## Notes\n",
    "\n",
    "1. Do not include data about the MLS or CFL in any of the work you are doing, we're only interested in the Big 4 in this assignment.\n",
    "2. I highly suggest that you first tackle the four correlation questions in order, as they are all similar and worth the majority of grades for this assignment. This is by design!\n",
    "3. It's fair game to talk with peers about high level strategy as well as the relationship between metropolitan areas and sports teams. However, do not post code solving aspects of the assignment (including such as dictionaries mapping areas to teams, or regexes which will clean up names).\n",
    "4. There may be more teams than the assert statements test, remember to collapse multiple teams in one city into a single value!"
   ]
  },
  {
   "cell_type": "code",
   "execution_count": 1,
   "metadata": {},
   "outputs": [],
   "source": [
    "# ETL Cities\n",
    "import pandas as pd\n",
    "import numpy as np\n",
    "import re\n",
    "\n",
    "def etl_cities(team,loc):\n",
    "    team = team.upper()\n",
    "    cities=pd.read_html(\"assets/wikipedia_data.html\")[1]\n",
    "    cities=cities.iloc[:-1,[0,3,5,6,7,8]]\n",
    "    cities.rename(columns = {\"Population (2016 est.)[8]\":\"Population\"},inplace=True)\n",
    "\n",
    "    # delete \"[...]\"\n",
    "    cities['NFL'] = cities['NFL'].str.replace(r\"\\[.*\\]\",\"\", regex=True)\n",
    "    cities['MLB'] = cities['MLB'].str.replace(r\"\\[.*\\]\",\"\", regex=True)\n",
    "    cities['NBA'] = cities['NBA'].str.replace(r\"\\[.*\\]\",\"\", regex=True)\n",
    "    cities['NHL'] = cities['NHL'].str.replace(r\"\\[.*\\]\",\"\", regex=True)\n",
    "\n",
    "    cities_aux = cities[['Metropolitan area',team]]\n",
    "\n",
    "    teams = cities_aux[team].unique()\n",
    "    indexes = []\n",
    "    for i in teams:\n",
    "        m = re.findall(r\"^[A-Za-z0-9]\",i)\n",
    "        if len(m)>0:\n",
    "            indexes.append(cities_aux[cities_aux[team]==i].index.values[0])\n",
    "\n",
    "    cities_aux = cities_aux.iloc[indexes]\n",
    "    cities_w = cities_aux.iloc[0:loc]\n",
    "    met_area = cities_w['Metropolitan area'].values\n",
    "    team_values = cities_w[team].values\n",
    "    cities_aux = cities_aux.drop(np.arange(0,loc,1))\n",
    "\n",
    "    ind = 0\n",
    "    for i in range(0,len(met_area)):\n",
    "        m = re.findall(\"[A-Z0-9]*[a-z]+\",team_values[i])\n",
    "        for n in m:\n",
    "            df = pd.DataFrame({'Metropolitan area' : met_area[i] , team : n},index=[ind])\n",
    "            cities_aux=pd.concat([cities_aux,df])\n",
    "            ind+=1\n",
    "\n",
    "    cities_aux = cities_aux.reset_index().drop('index', axis=1)\n",
    "\n",
    "    population = cities[['Metropolitan area','Population']]\n",
    "\n",
    "    cities_aux = cities_aux.merge(population, how='left', on='Metropolitan area')\n",
    "    cities_aux=cities_aux.rename(columns={team:'team'})\n",
    "\n",
    "    cities_aux['team']=cities_aux['team'].str.replace('[\\w]*\\ ','', regex=True)\n",
    "\n",
    "    return cities_aux"
   ]
  },
  {
   "cell_type": "code",
   "execution_count": 2,
   "metadata": {},
   "outputs": [],
   "source": [
    "def etl_big4(team):\n",
    "\n",
    "    path = \"assets/{}.csv\".format(team.lower())\n",
    "    big4_df =pd.read_csv(path)\n",
    "\n",
    "    big4_df = big4_df[big4_df.year ==2018]\n",
    "    big4_df = big4_df[['team','W','L']]\n",
    "\n",
    "    indexes = []\n",
    "    for i in range(big4_df.shape[0]):\n",
    "        row=big4_df.iloc[i]\n",
    "        if row['team']==row['W'] and row['L']==row['W']:\n",
    "            indexes.append(i)\n",
    "    if len(indexes)>0:\n",
    "        big4_df = big4_df.drop(indexes)\n",
    "\n",
    "    big4_df['team'] = big4_df['team'].str.replace('\\*','', regex=True)\n",
    "    big4_df['team'] = big4_df['team'].str.replace('\\s\\(\\d*\\)','', regex=True)\n",
    "    big4_df['team'] = big4_df['team'].str.replace('[\\w.]*\\ ','',regex=True)\n",
    "\n",
    "    \n",
    "    big4_df = big4_df.astype({'team': str,'W': int, 'L': int})\n",
    "    \n",
    "    big4_df['WLRatio'] = big4_df['W']/(big4_df['W']+big4_df['L'])\n",
    "\n",
    "    return big4_df"
   ]
  },
  {
   "cell_type": "markdown",
   "metadata": {
    "deletable": false,
    "editable": false,
    "nbgrader": {
     "checksum": "369ff9ecf0ee04640574205cbc697f94",
     "grade": false,
     "grade_id": "cell-712b2b5da63d4505",
     "locked": true,
     "schema_version": 1,
     "solution": false
    }
   },
   "source": [
    "## Question 1\n",
    "For this question, calculate the win/loss ratio's correlation with the population of the city it is in for the **NHL** using **2018** data."
   ]
  },
  {
   "cell_type": "code",
   "execution_count": 21,
   "metadata": {},
   "outputs": [
    {
     "data": {
      "text/plain": [
       "(-0.08537702363136182, 0.6657663663986723)"
      ]
     },
     "execution_count": 21,
     "metadata": {},
     "output_type": "execute_result"
    }
   ],
   "source": [
    "import pandas as pd\n",
    "import numpy as np\n",
    "import scipy.stats as stats\n",
    "import re\n",
    "\n",
    "nhl_df=pd.read_csv(\"assets/nhl.csv\")\n",
    "\n",
    "\n",
    "def nhl_correlation(): \n",
    "    # YOUR CODE HERE\n",
    "    cities_nhl = etl_cities('NHL',2)\n",
    "\n",
    "    nhl_2018 = etl_big4('nhl')\n",
    "    \n",
    "    q1_merge=pd.merge(cities_nhl,nhl_2018,'outer', on = 'team')\n",
    "    q1_merge = q1_merge.groupby('Metropolitan area').agg({'WLRatio': np.nanmean, 'Population': np.nanmean})\n",
    "\n",
    "    # raise NotImplementedError()\n",
    "    \n",
    "    population_by_region = q1_merge['Population'] # pass in metropolitan area population from cities\n",
    "    win_loss_by_region = q1_merge['WLRatio'] # pass in win/loss ratio from nhl_df in the same order as cities[\"Metropolitan area\"]\n",
    "\n",
    "    assert len(population_by_region) == len(win_loss_by_region), \"Q1: Your lists must be the same length\"\n",
    "    assert len(population_by_region) == 28, \"Q1: There should be 28 teams being analysed for NHL\"\n",
    "    \n",
    "    return stats.pearsonr(population_by_region, win_loss_by_region)\n",
    "    raise NotImplementedError()\n",
    "nhl_correlation()"
   ]
  },
  {
   "cell_type": "markdown",
   "metadata": {
    "deletable": false,
    "editable": false,
    "nbgrader": {
     "checksum": "988912cae4968d81473f46d783e79c16",
     "grade": false,
     "grade_id": "cell-cb964e690298b71d",
     "locked": true,
     "schema_version": 1,
     "solution": false
    }
   },
   "source": [
    "## Question 2\n",
    "For this question, calculate the win/loss ratio's correlation with the population of the city it is in for the **NBA** using **2018** data."
   ]
  },
  {
   "cell_type": "code",
   "execution_count": 25,
   "metadata": {
    "deletable": false,
    "nbgrader": {
     "checksum": "9394222aafc8ccab0a228098ba0d6010",
     "grade": false,
     "grade_id": "cell-5a5f21279e3d3572",
     "locked": false,
     "schema_version": 1,
     "solution": true
    }
   },
   "outputs": [],
   "source": [
    "import pandas as pd\n",
    "import numpy as np\n",
    "import scipy.stats as stats\n",
    "import re\n",
    "\n",
    "nba_df=pd.read_csv(\"assets/nba.csv\")\n",
    "cities=pd.read_html(\"assets/wikipedia_data.html\")[1]\n",
    "cities=cities.iloc[:-1,[0,3,5,6,7,8]]\n",
    "\n",
    "def nba_correlation():\n",
    "    # YOUR CODE HERE\n",
    "    cities_nba = etl_cities('NBA',2)\n",
    "    nba_2018 = etl_big4('nba')\n",
    "    q2_merge=pd.merge(cities_nba,nba_2018,'outer', on = 'team')\n",
    "    q2_merge = q2_merge.groupby('Metropolitan area').agg({'WLRatio': np.nanmean, 'Population': np.nanmean})\n",
    "\n",
    "\n",
    "    population_by_region = q2_merge['Population']  # pass in metropolitan area population from cities\n",
    "    win_loss_by_region = q2_merge['WLRatio']  # pass in win/loss ratio from nba_df in the same order as cities[\"Metropolitan area\"]\n",
    "\n",
    "    assert len(population_by_region) == len(win_loss_by_region), \"Q2: Your lists must be the same length\"\n",
    "    assert len(population_by_region) == 28, \"Q2: There should be 28 teams being analysed for NBA\"\n",
    "\n",
    "    return stats.pearsonr(population_by_region, win_loss_by_region)\n",
    "    raise NotImplementedError()"
   ]
  },
  {
   "cell_type": "code",
   "execution_count": 26,
   "metadata": {
    "deletable": false,
    "editable": false,
    "nbgrader": {
     "checksum": "bbdeb8eb22f525a34c10dc8798324e42",
     "grade": true,
     "grade_id": "cell-e573b2b4a282b470",
     "locked": true,
     "points": 20,
     "schema_version": 1,
     "solution": false
    }
   },
   "outputs": [
    {
     "data": {
      "text/plain": [
       "(-0.2021940882816165, 0.302148236118873)"
      ]
     },
     "execution_count": 26,
     "metadata": {},
     "output_type": "execute_result"
    }
   ],
   "source": [
    "nba_correlation()"
   ]
  },
  {
   "cell_type": "markdown",
   "metadata": {
    "deletable": false,
    "editable": false,
    "nbgrader": {
     "checksum": "1a1a5809f675ca033086422007cd73bd",
     "grade": false,
     "grade_id": "cell-96e15e4335df78f4",
     "locked": true,
     "schema_version": 1,
     "solution": false
    }
   },
   "source": [
    "## Question 3\n",
    "For this question, calculate the win/loss ratio's correlation with the population of the city it is in for the **MLB** using **2018** data."
   ]
  },
  {
   "cell_type": "code",
   "execution_count": 27,
   "metadata": {
    "deletable": false,
    "nbgrader": {
     "checksum": "27e8c0da6c9fa0dffc10488314335b6c",
     "grade": false,
     "grade_id": "cell-33b00fc3f3467b0c",
     "locked": false,
     "schema_version": 1,
     "solution": true
    }
   },
   "outputs": [],
   "source": [
    "import pandas as pd\n",
    "import numpy as np\n",
    "import scipy.stats as stats\n",
    "import re\n",
    "\n",
    "mlb_df=pd.read_csv(\"assets/mlb.csv\")\n",
    "cities=pd.read_html(\"assets/wikipedia_data.html\")[1]\n",
    "cities=cities.iloc[:-1,[0,3,5,6,7,8]]\n",
    "\n",
    "def mlb_correlation(): \n",
    "    # YOUR CODE HERE\n",
    "    mlb_2018 = etl_big4('mlb')\n",
    "    mlb_2018.at[0,'team']='Red Sox'\n",
    "    mlb_2018.at[8,'team']='White Sox'\n",
    "\n",
    "    cities_mlb = etl_cities('MLB',4)\n",
    "    cities_mlb.at[30,'team']='White Sox'\n",
    "    cities_mlb.at[3,'team']='Red Sox'\n",
    "\n",
    "    q3_merge=pd.merge(cities_mlb,mlb_2018,'outer', on = 'team')\n",
    "    q3_merge = q3_merge.groupby('Metropolitan area').agg({'WLRatio': np.nanmean, 'Population': np.nanmean})\n",
    "\n",
    "     \n",
    "    population_by_region = q3_merge['Population'] # pass in metropolitan area population from cities\n",
    "    win_loss_by_region = q3_merge['WLRatio'] # pass in win/loss ratio from mlb_df in the same order as cities[\"Metropolitan area\"]\n",
    "\n",
    "    assert len(population_by_region) == len(win_loss_by_region), \"Q3: Your lists must be the same length\"\n",
    "    assert len(population_by_region) == 26, \"Q3: There should be 26 teams being analysed for MLB\"\n",
    "\n",
    "    return stats.pearsonr(population_by_region, win_loss_by_region)\n",
    "    \n",
    "    raise NotImplementedError()\n",
    "   "
   ]
  },
  {
   "cell_type": "code",
   "execution_count": 28,
   "metadata": {
    "deletable": false,
    "editable": false,
    "nbgrader": {
     "checksum": "cda33b094ba19ccc37a481e0dd29e0bc",
     "grade": true,
     "grade_id": "cell-764d4476f425c5a2",
     "locked": true,
     "points": 20,
     "schema_version": 1,
     "solution": false
    }
   },
   "outputs": [
    {
     "data": {
      "text/plain": [
       "(-0.032725738592627396, 0.8739016967469131)"
      ]
     },
     "execution_count": 28,
     "metadata": {},
     "output_type": "execute_result"
    }
   ],
   "source": [
    "mlb_correlation()"
   ]
  },
  {
   "cell_type": "markdown",
   "metadata": {
    "deletable": false,
    "editable": false,
    "nbgrader": {
     "checksum": "6977a6da9ed6d8b7a0b7e37bbeda709b",
     "grade": false,
     "grade_id": "cell-793df6c04dfb126e",
     "locked": true,
     "schema_version": 1,
     "solution": false
    }
   },
   "source": [
    "## Question 4\n",
    "For this question, calculate the win/loss ratio's correlation with the population of the city it is in for the **NFL** using **2018** data."
   ]
  },
  {
   "cell_type": "code",
   "execution_count": 29,
   "metadata": {
    "deletable": false,
    "nbgrader": {
     "checksum": "c4914ad1e119278ec2bd567c52640b66",
     "grade": false,
     "grade_id": "cell-8ccebc209aeec8d9",
     "locked": false,
     "schema_version": 1,
     "solution": true
    }
   },
   "outputs": [],
   "source": [
    "import pandas as pd\n",
    "import numpy as np\n",
    "import scipy.stats as stats\n",
    "import re\n",
    "\n",
    "nfl_df=pd.read_csv(\"assets/nfl.csv\")\n",
    "cities=pd.read_html(\"assets/wikipedia_data.html\")[1]\n",
    "cities=cities.iloc[:-1,[0,3,5,6,7,8]]\n",
    "\n",
    "def nfl_correlation(): \n",
    "    # YOUR CODE HERE\n",
    "    nfl_2018 = etl_big4('nfl')\n",
    "    nfl_2018['team'] = nfl_2018['team'].str.replace('\\+','', regex=True)\n",
    "\n",
    "    cities_nfl = etl_cities('nfl',3)\n",
    "    \n",
    "    q4_merge=pd.merge(cities_nfl,nfl_2018,'outer', on = 'team')\n",
    "    q4_merge = q4_merge.groupby('Metropolitan area').agg({'WLRatio': np.nanmean, 'Population': np.nanmean})\n",
    "    \n",
    "\n",
    "    population_by_region = q4_merge['Population'] # pass in metropolitan area population from cities\n",
    "    win_loss_by_region = q4_merge['WLRatio'] # pass in win/loss ratio from nfl_df in the same order as cities[\"Metropolitan area\"]\n",
    "\n",
    "    assert len(population_by_region) == len(win_loss_by_region), \"Q4: Your lists must be the same length\"\n",
    "    assert len(population_by_region) == 29, \"Q4: There should be 29 teams being analysed for NFL\"\n",
    "\n",
    "    return stats.pearsonr(population_by_region, win_loss_by_region)\n",
    "    raise NotImplementedError()"
   ]
  },
  {
   "cell_type": "code",
   "execution_count": 30,
   "metadata": {
    "deletable": false,
    "editable": false,
    "nbgrader": {
     "checksum": "e9415d6399aa49e3a1a60813afdefa3b",
     "grade": true,
     "grade_id": "cell-de7b148b9554dbda",
     "locked": true,
     "points": 20,
     "schema_version": 1,
     "solution": false
    }
   },
   "outputs": [
    {
     "data": {
      "text/plain": [
       "(-0.049839450556883366, 0.7973739749607349)"
      ]
     },
     "execution_count": 30,
     "metadata": {},
     "output_type": "execute_result"
    }
   ],
   "source": [
    "nfl_correlation()"
   ]
  },
  {
   "cell_type": "markdown",
   "metadata": {
    "deletable": false,
    "editable": false,
    "nbgrader": {
     "checksum": "b02d5cd3273f561e4ae939bb2a41740c",
     "grade": false,
     "grade_id": "cell-97b49d8639e908c4",
     "locked": true,
     "schema_version": 1,
     "solution": false
    }
   },
   "source": [
    "## Question 5\n",
    "In this question I would like you to explore the hypothesis that **given that an area has two sports teams in different sports, those teams will perform the same within their respective sports**. How I would like to see this explored is with a series of paired t-tests (so use [`ttest_rel`](https://docs.scipy.org/doc/scipy/reference/generated/scipy.stats.ttest_rel.html)) between all pairs of sports. Are there any sports where we can reject the null hypothesis? Again, average values where a sport has multiple teams in one region. Remember, you will only be including, for each sport, cities which have teams engaged in that sport, drop others as appropriate. This question is worth 20% of the grade for this assignment."
   ]
  },
  {
   "cell_type": "code",
   "execution_count": 5,
   "metadata": {
    "deletable": false,
    "nbgrader": {
     "checksum": "92b8bedc9c49fca1ef724ab5ce526db5",
     "grade": false,
     "grade_id": "cell-92f25f44b8d1179f",
     "locked": false,
     "schema_version": 1,
     "solution": true
    }
   },
   "outputs": [],
   "source": [
    "import pandas as pd\n",
    "import numpy as np\n",
    "import scipy.stats as stats\n",
    "import re\n",
    "from scipy.stats import ttest_rel\n",
    "\n",
    "mlb_df=pd.read_csv(\"assets/mlb.csv\")\n",
    "nhl_df=pd.read_csv(\"assets/nhl.csv\")\n",
    "nba_df=pd.read_csv(\"assets/nba.csv\")\n",
    "nfl_df=pd.read_csv(\"assets/nfl.csv\")\n",
    "cities=pd.read_html(\"assets/wikipedia_data.html\")[1]\n",
    "cities=cities.iloc[:-1,[0,3,5,6,7,8]]\n",
    "\n",
    "def sports_team_performance():\n",
    "    # YOUR CODE HERE\n",
    "    # Note: p_values is a full dataframe, so df.loc[\"NFL\",\"NBA\"] should be the same as df.loc[\"NBA\",\"NFL\"] and\n",
    "    # df.loc[\"NFL\",\"NFL\"] should return np.nan\n",
    "    sports = ['NFL', 'NBA', 'NHL', 'MLB']\n",
    "    p_values = pd.DataFrame({k:np.nan for k in sports}, index=sports)\n",
    "\n",
    "    #nhl\n",
    "    cities_nhl = etl_cities('NHL',2)\n",
    "    nhl_2018 = etl_big4('nhl')\n",
    "    q1_merge=pd.merge(cities_nhl,nhl_2018,'outer', on = 'team')\n",
    "    q1_merge = q1_merge.groupby('Metropolitan area').agg({'WLRatio': np.nanmean, 'Population': np.nanmean})\n",
    "\n",
    "    #nba\n",
    "    cities_nba = etl_cities('NBA',2)\n",
    "    nba_2018 = etl_big4('nba')\n",
    "    q2_merge=pd.merge(cities_nba,nba_2018,'outer', on = 'team')\n",
    "    q2_merge = q2_merge.groupby('Metropolitan area').agg({'WLRatio': np.nanmean, 'Population': np.nanmean})\n",
    "\n",
    "    #mlb\n",
    "    mlb_2018 = etl_big4('mlb')\n",
    "    mlb_2018.at[0,'team']='Red Sox'\n",
    "    mlb_2018.at[8,'team']='White Sox'\n",
    "\n",
    "    cities_mlb = etl_cities('MLB',4)\n",
    "    cities_mlb.at[30,'team']='White Sox'\n",
    "    cities_mlb.at[3,'team']='Red Sox'\n",
    "\n",
    "    q3_merge=pd.merge(cities_mlb,mlb_2018,'outer', on = 'team')\n",
    "    q3_merge = q3_merge.groupby('Metropolitan area').agg({'WLRatio': np.nanmean, 'Population': np.nanmean})\n",
    "\n",
    "    #nfl\n",
    "    nfl_2018 = etl_big4('nfl')\n",
    "    nfl_2018['team'] = nfl_2018['team'].str.replace('\\+','', regex=True)\n",
    "\n",
    "    cities_nfl = etl_cities('nfl',3)\n",
    "\n",
    "    q4_merge=pd.merge(cities_nfl,nfl_2018,'outer', on = 'team')\n",
    "    q4_merge = q4_merge.groupby('Metropolitan area').agg({'WLRatio': np.nanmean, 'Population': np.nanmean})\n",
    "\n",
    "    # all merges\n",
    "\n",
    "    nhl_merge = q1_merge.drop('Population',axis=1)\n",
    "    nba_merge = q2_merge.drop('Population',axis=1)\n",
    "    mlb_merge = q3_merge.drop('Population',axis=1)\n",
    "    nfl_merge = q4_merge.drop('Population',axis=1)\n",
    "\n",
    "    def to_merge(sport):\n",
    "        if sport == 'NFL':\n",
    "            return nfl_merge\n",
    "        elif sport == 'NBA':\n",
    "            return nba_merge\n",
    "        elif sport == 'NHL':\n",
    "            return nhl_merge\n",
    "        elif sport == 'MLB':\n",
    "            return mlb_merge\n",
    "   \n",
    "    for i in sports:\n",
    "        for j in sports:\n",
    "            merged=pd.merge(to_merge(i),to_merge(j),'inner', on = ['Metropolitan area'])\n",
    "            p_values.loc[i,j]=ttest_rel(merged['WLRatio_x'], merged['WLRatio_y'])[1]\n",
    "\n",
    "    assert abs(p_values.loc[\"NBA\", \"NHL\"] - 0.02) <= 1e-2, \"The NBA-NFL p-value should be around 0.02\"\n",
    "    assert abs(p_values.loc[\"MLB\", \"NFL\"] - 0.80) <= 1e-2, \"The MLB-NFL p-value should be around 0.80\"\n",
    "    return p_values\n",
    "    raise NotImplementedError()\n"
   ]
  },
  {
   "cell_type": "code",
   "execution_count": 6,
   "metadata": {
    "deletable": false,
    "editable": false,
    "nbgrader": {
     "checksum": "2a596ab421a45cc01168d10e8fbb8f89",
     "grade": true,
     "grade_id": "cell-fb4b9cb5ff4570a6",
     "locked": true,
     "points": 20,
     "schema_version": 1,
     "solution": false
    }
   },
   "outputs": [
    {
     "data": {
      "text/html": [
       "<div>\n",
       "<style scoped>\n",
       "    .dataframe tbody tr th:only-of-type {\n",
       "        vertical-align: middle;\n",
       "    }\n",
       "\n",
       "    .dataframe tbody tr th {\n",
       "        vertical-align: top;\n",
       "    }\n",
       "\n",
       "    .dataframe thead th {\n",
       "        text-align: right;\n",
       "    }\n",
       "</style>\n",
       "<table border=\"1\" class=\"dataframe\">\n",
       "  <thead>\n",
       "    <tr style=\"text-align: right;\">\n",
       "      <th></th>\n",
       "      <th>NFL</th>\n",
       "      <th>NBA</th>\n",
       "      <th>NHL</th>\n",
       "      <th>MLB</th>\n",
       "    </tr>\n",
       "  </thead>\n",
       "  <tbody>\n",
       "    <tr>\n",
       "      <th>NFL</th>\n",
       "      <td>NaN</td>\n",
       "      <td>0.941792</td>\n",
       "      <td>0.030883</td>\n",
       "      <td>0.802069</td>\n",
       "    </tr>\n",
       "    <tr>\n",
       "      <th>NBA</th>\n",
       "      <td>0.941792</td>\n",
       "      <td>NaN</td>\n",
       "      <td>0.022297</td>\n",
       "      <td>0.950540</td>\n",
       "    </tr>\n",
       "    <tr>\n",
       "      <th>NHL</th>\n",
       "      <td>0.030883</td>\n",
       "      <td>0.022297</td>\n",
       "      <td>NaN</td>\n",
       "      <td>0.000708</td>\n",
       "    </tr>\n",
       "    <tr>\n",
       "      <th>MLB</th>\n",
       "      <td>0.802069</td>\n",
       "      <td>0.950540</td>\n",
       "      <td>0.000708</td>\n",
       "      <td>NaN</td>\n",
       "    </tr>\n",
       "  </tbody>\n",
       "</table>\n",
       "</div>"
      ],
      "text/plain": [
       "          NFL       NBA       NHL       MLB\n",
       "NFL       NaN  0.941792  0.030883  0.802069\n",
       "NBA  0.941792       NaN  0.022297  0.950540\n",
       "NHL  0.030883  0.022297       NaN  0.000708\n",
       "MLB  0.802069  0.950540  0.000708       NaN"
      ]
     },
     "execution_count": 6,
     "metadata": {},
     "output_type": "execute_result"
    }
   ],
   "source": [
    "sports_team_performance()"
   ]
  },
  {
   "cell_type": "code",
   "execution_count": null,
   "metadata": {},
   "outputs": [],
   "source": []
  }
 ],
 "metadata": {
  "coursera": {
   "schema_names": [
    "mooc_adswpy_1_v2_assignment4"
   ]
  },
  "kernelspec": {
   "display_name": "Python 3.10.5 64-bit",
   "language": "python",
   "name": "python3"
  },
  "language_info": {
   "codemirror_mode": {
    "name": "ipython",
    "version": 3
   },
   "file_extension": ".py",
   "mimetype": "text/x-python",
   "name": "python",
   "nbconvert_exporter": "python",
   "pygments_lexer": "ipython3",
   "version": "3.10.5"
  },
  "vscode": {
   "interpreter": {
    "hash": "4bba7e2b24ea2d6c62673c3ed642d0129ead9d4c378b0ce2fb07275f742d82ac"
   }
  }
 },
 "nbformat": 4,
 "nbformat_minor": 1
}
