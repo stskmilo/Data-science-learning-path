{
 "cells": [
  {
   "cell_type": "markdown",
   "metadata": {},
   "source": [
    "# Assignment 4\n",
    "## Description\n",
    "In this assignment you must read in a file of metropolitan regions and associated sports teams from [assets/wikipedia_data.html](assets/wikipedia_data.html) and answer some questions about each metropolitan region. Each of these regions may have one or more teams from the \"Big 4\": NFL (football, in [assets/nfl.csv](assets/nfl.csv)), MLB (baseball, in [assets/mlb.csv](assets/mlb.csv)), NBA (basketball, in [assets/nba.csv](assets/nba.csv) or NHL (hockey, in [assets/nhl.csv](assets/nhl.csv)). Please keep in mind that all questions are from the perspective of the metropolitan region, and that this file is the \"source of authority\" for the location of a given sports team. Thus teams which are commonly known by a different area (e.g. \"Oakland Raiders\") need to be mapped into the metropolitan region given (e.g. San Francisco Bay Area). This will require some human data understanding outside of the data you've been given (e.g. you will have to hand-code some names, and might need to google to find out where teams are)!\n",
    "\n",
    "For each sport I would like you to answer the question: **what is the win/loss ratio's correlation with the population of the city it is in?** Win/Loss ratio refers to the number of wins over the number of wins plus the number of losses. Remember that to calculate the correlation with [`pearsonr`](https://docs.scipy.org/doc/scipy/reference/generated/scipy.stats.pearsonr.html), so you are going to send in two ordered lists of values, the populations from the wikipedia_data.html file and the win/loss ratio for a given sport in the same order. Average the win/loss ratios for those cities which have multiple teams of a single sport. Each sport is worth an equal amount in this assignment (20%\\*4=80%) of the grade for this assignment. You should only use data **from year 2018** for your analysis -- this is important!\n",
    "\n",
    "## Notes\n",
    "\n",
    "1. Do not include data about the MLS or CFL in any of the work you are doing, we're only interested in the Big 4 in this assignment.\n",
    "2. I highly suggest that you first tackle the four correlation questions in order, as they are all similar and worth the majority of grades for this assignment. This is by design!\n",
    "3. It's fair game to talk with peers about high level strategy as well as the relationship between metropolitan areas and sports teams. However, do not post code solving aspects of the assignment (including such as dictionaries mapping areas to teams, or regexes which will clean up names).\n",
    "4. There may be more teams than the assert statements test, remember to collapse multiple teams in one city into a single value!"
   ]
  },
  {
   "cell_type": "code",
   "execution_count": 1,
   "metadata": {},
   "outputs": [],
   "source": [
    "# ETL Cities\n",
    "import pandas as pd\n",
    "import numpy as np\n",
    "import re\n",
    "\n",
    "def etl_cities(team,loc):\n",
    "    team = team.upper()\n",
    "    cities=pd.read_html(\"assets/wikipedia_data.html\")[1]\n",
    "    cities=cities.iloc[:-1,[0,3,5,6,7,8]]\n",
    "    cities.rename(columns = {\"Population (2016 est.)[8]\":\"Population\"},inplace=True)\n",
    "\n",
    "    # delete \"[...]\"\n",
    "    cities['NFL'] = cities['NFL'].str.replace(r\"\\[.*\\]\",\"\", regex=True)\n",
    "    cities['MLB'] = cities['MLB'].str.replace(r\"\\[.*\\]\",\"\", regex=True)\n",
    "    cities['NBA'] = cities['NBA'].str.replace(r\"\\[.*\\]\",\"\", regex=True)\n",
    "    cities['NHL'] = cities['NHL'].str.replace(r\"\\[.*\\]\",\"\", regex=True)\n",
    "\n",
    "    cities_aux = cities[['Metropolitan area',team]]\n",
    "\n",
    "    teams = cities_aux[team].unique()\n",
    "    indexes = []\n",
    "    for i in teams:\n",
    "        m = re.findall(r\"^[A-Za-z0-9]\",i)\n",
    "        if len(m)>0:\n",
    "            indexes.append(cities_aux[cities_aux[team]==i].index.values[0])\n",
    "\n",
    "    cities_aux = cities_aux.iloc[indexes]\n",
    "    cities_w = cities_aux.iloc[0:loc]\n",
    "    met_area = cities_w['Metropolitan area'].values\n",
    "    team_values = cities_w[team].values\n",
    "    cities_aux = cities_aux.drop(np.arange(0,loc,1))\n",
    "\n",
    "    ind = 0\n",
    "    for i in range(0,len(met_area)):\n",
    "        m = re.findall(\"[A-Z0-9]*[a-z]+\",team_values[i])\n",
    "        for n in m:\n",
    "            df = pd.DataFrame({'Metropolitan area' : met_area[i] , team : n},index=[ind])\n",
    "            cities_aux=pd.concat([cities_aux,df])\n",
    "            ind+=1\n",
    "\n",
    "    cities_aux = cities_aux.reset_index().drop('index', axis=1)\n",
    "\n",
    "    population = cities[['Metropolitan area','Population']]\n",
    "\n",
    "    cities_aux = cities_aux.merge(population, how='left', on='Metropolitan area')\n",
    "    cities_aux=cities_aux.rename(columns={team:'team'})\n",
    "\n",
    "    cities_aux['team']=cities_aux['team'].str.replace('[\\w]*\\ ','', regex=True)\n",
    "\n",
    "    return cities_aux"
   ]
  },
  {
   "cell_type": "code",
   "execution_count": 2,
   "metadata": {},
   "outputs": [],
   "source": [
    "def etl_big4(team):\n",
    "\n",
    "    path = \"assets/{}.csv\".format(team.lower())\n",
    "    big4_df =pd.read_csv(path)\n",
    "\n",
    "    big4_df = big4_df[big4_df.year ==2018]\n",
    "    big4_df = big4_df[['team','W','L']]\n",
    "\n",
    "    indexes = []\n",
    "    for i in range(big4_df.shape[0]):\n",
    "        row=big4_df.iloc[i]\n",
    "        if row['team']==row['W'] and row['L']==row['W']:\n",
    "            indexes.append(i)\n",
    "    if len(indexes)>0:\n",
    "        big4_df = big4_df.drop(indexes)\n",
    "\n",
    "    big4_df['team'] = big4_df['team'].str.replace('\\*','', regex=True)\n",
    "    big4_df['team'] = big4_df['team'].str.replace('\\s\\(\\d*\\)','', regex=True)\n",
    "    big4_df['team'] = big4_df['team'].str.replace('[\\w.]*\\ ','',regex=True)\n",
    "\n",
    "    \n",
    "    big4_df = big4_df.astype({'team': str,'W': int, 'L': int})\n",
    "    \n",
    "    big4_df['WLRatio'] = big4_df['W']/(big4_df['W']+big4_df['L'])\n",
    "\n",
    "    return big4_df"
   ]
  },
  {
   "cell_type": "markdown",
   "metadata": {},
   "source": [
    "## Question 1\n",
    "For this question, calculate the win/loss ratio's correlation with the population of the city it is in for the **NHL** using **2018** data."
   ]
  },
  {
   "cell_type": "code",
   "execution_count": 3,
   "metadata": {},
   "outputs": [],
   "source": [
    "import pandas as pd\n",
    "import numpy as np\n",
    "import scipy.stats as stats\n",
    "import re\n",
    "\n",
    "nhl_df=pd.read_csv(\"assets/nhl.csv\")"
   ]
  },
  {
   "cell_type": "code",
   "execution_count": 8,
   "metadata": {},
   "outputs": [],
   "source": [
    "# YOUR CODE HERE\n",
    "cities_nhl = etl_cities('NHL',2)\n",
    "\n",
    "nhl_2018 = etl_big4('nhl')\n",
    "\n",
    "q1_merge=pd.merge(cities_nhl,nhl_2018,'outer', on = 'team')\n",
    "q1_merge = q1_merge.groupby('Metropolitan area').agg({'WLRatio': np.nanmean, 'Population': np.nanmean})"
   ]
  },
  {
   "cell_type": "code",
   "execution_count": 9,
   "metadata": {},
   "outputs": [
    {
     "data": {
      "text/plain": [
       "(-0.08537702363136182, 0.6657663663986723)"
      ]
     },
     "execution_count": 9,
     "metadata": {},
     "output_type": "execute_result"
    }
   ],
   "source": [
    "\n",
    "population_by_region = q1_merge['Population'] # pass in metropolitan area population from cities\n",
    "win_loss_by_region = q1_merge['WLRatio'] # pass in win/loss ratio from nhl_df in the same order as cities[\"Metropolitan area\"]\n",
    "\n",
    "assert len(population_by_region) == len(win_loss_by_region), \"Q1: Your lists must be the same length\"\n",
    "assert len(population_by_region) == 28, \"Q1: There should be 28 teams being analysed for NHL\"\n",
    "\n",
    "stats.pearsonr(population_by_region, win_loss_by_region)"
   ]
  },
  {
   "cell_type": "code",
   "execution_count": null,
   "metadata": {},
   "outputs": [],
   "source": [
    "def nhl_correlation(): \n",
    "    # YOUR CODE HERE\n",
    "    raise NotImplementedError()\n",
    "    \n",
    "    population_by_region = [] # pass in metropolitan area population from cities\n",
    "    win_loss_by_region = [] # pass in win/loss ratio from nhl_df in the same order as cities[\"Metropolitan area\"]\n",
    "\n",
    "    assert len(population_by_region) == len(win_loss_by_region), \"Q1: Your lists must be the same length\"\n",
    "    assert len(population_by_region) == 28, \"Q1: There should be 28 teams being analysed for NHL\"\n",
    "    \n",
    "    return stats.pearsonr(population_by_region, win_loss_by_region)"
   ]
  },
  {
   "cell_type": "markdown",
   "metadata": {},
   "source": [
    "## Question 2\n",
    "For this question, calculate the win/loss ratio's correlation with the population of the city it is in for the **NBA** using **2018** data."
   ]
  },
  {
   "cell_type": "code",
   "execution_count": 6,
   "metadata": {},
   "outputs": [],
   "source": [
    "import pandas as pd\n",
    "import numpy as np\n",
    "import scipy.stats as stats\n",
    "import re\n",
    "\n",
    "nba_df=pd.read_csv(\"assets/nba.csv\")\n",
    "cities=pd.read_html(\"assets/wikipedia_data.html\")[1]\n",
    "cities=cities.iloc[:-1,[0,3,5,6,7,8]]"
   ]
  },
  {
   "cell_type": "code",
   "execution_count": 10,
   "metadata": {},
   "outputs": [],
   "source": [
    "cities_nba = etl_cities('NBA',2)\n",
    "nba_2018 = etl_big4('nba')\n",
    "q2_merge=pd.merge(cities_nba,nba_2018,'outer', on = 'team')\n",
    "q2_merge = q2_merge.groupby('Metropolitan area').agg({'WLRatio': np.nanmean, 'Population': np.nanmean})\n"
   ]
  },
  {
   "cell_type": "code",
   "execution_count": 11,
   "metadata": {},
   "outputs": [
    {
     "data": {
      "text/plain": [
       "(-0.2021940882816165, 0.302148236118873)"
      ]
     },
     "execution_count": 11,
     "metadata": {},
     "output_type": "execute_result"
    }
   ],
   "source": [
    "population_by_region = q2_merge['Population'] # pass in metropolitan area population from cities\n",
    "win_loss_by_region = q2_merge['WLRatio'] # pass in win/loss ratio from nba_df in the same order as cities[\"Metropolitan area\"]\n",
    "\n",
    "\n",
    "assert len(population_by_region) == len(win_loss_by_region), \"Q2: Your lists must be the same length\"\n",
    "assert len(population_by_region) == 28, \"Q2: There should be 28 teams being analysed for NBA\"\n",
    "\n",
    "stats.pearsonr(population_by_region, win_loss_by_region)"
   ]
  },
  {
   "cell_type": "markdown",
   "metadata": {},
   "source": [
    "## Question 3\n",
    "For this question, calculate the win/loss ratio's correlation with the population of the city it is in for the **MLB** using **2018** data."
   ]
  },
  {
   "cell_type": "code",
   "execution_count": 293,
   "metadata": {},
   "outputs": [],
   "source": [
    "import pandas as pd\n",
    "import numpy as np\n",
    "import scipy.stats as stats\n",
    "import re\n",
    "\n",
    "mlb_df=pd.read_csv(\"assets/mlb.csv\")\n",
    "cities=pd.read_html(\"assets/wikipedia_data.html\")[1]\n",
    "cities=cities.iloc[:-1,[0,3,5,6,7,8]]\n"
   ]
  },
  {
   "cell_type": "code",
   "execution_count": 12,
   "metadata": {},
   "outputs": [],
   "source": [
    "mlb_2018 = etl_big4('mlb')\n",
    "mlb_2018.at[0,'team']='Red Sox'\n",
    "mlb_2018.at[8,'team']='White Sox'\n",
    "\n",
    "cities_mlb = etl_cities('MLB',4)\n",
    "cities_mlb.at[30,'team']='White Sox'\n",
    "cities_mlb.at[3,'team']='Red Sox'"
   ]
  },
  {
   "cell_type": "code",
   "execution_count": 13,
   "metadata": {},
   "outputs": [],
   "source": [
    "q3_merge=pd.merge(cities_mlb,mlb_2018,'outer', on = 'team')\n",
    "q3_merge = q3_merge.groupby('Metropolitan area').agg({'WLRatio': np.nanmean, 'Population': np.nanmean})"
   ]
  },
  {
   "cell_type": "code",
   "execution_count": 14,
   "metadata": {},
   "outputs": [
    {
     "data": {
      "text/plain": [
       "(26, 2)"
      ]
     },
     "execution_count": 14,
     "metadata": {},
     "output_type": "execute_result"
    }
   ],
   "source": [
    "q3_merge.shape"
   ]
  },
  {
   "cell_type": "code",
   "execution_count": 15,
   "metadata": {},
   "outputs": [
    {
     "data": {
      "text/plain": [
       "(-0.032725738592627396, 0.8739016967469131)"
      ]
     },
     "execution_count": 15,
     "metadata": {},
     "output_type": "execute_result"
    }
   ],
   "source": [
    "population_by_region = q3_merge['Population'] # pass in metropolitan area population from cities\n",
    "win_loss_by_region = q3_merge['WLRatio'] # pass in win/loss ratio from mlb_df in the same order as cities[\"Metropolitan area\"]\n",
    "\n",
    "assert len(population_by_region) == len(win_loss_by_region), \"Q3: Your lists must be the same length\"\n",
    "assert len(population_by_region) == 26, \"Q3: There should be 26 teams being analysed for MLB\"\n",
    "\n",
    "stats.pearsonr(population_by_region, win_loss_by_region)"
   ]
  },
  {
   "cell_type": "markdown",
   "metadata": {},
   "source": [
    "## Question 4\n",
    "For this question, calculate the win/loss ratio's correlation with the population of the city it is in for the **NFL** using **2018** data."
   ]
  },
  {
   "cell_type": "code",
   "execution_count": 310,
   "metadata": {},
   "outputs": [],
   "source": [
    "import pandas as pd\n",
    "import numpy as np\n",
    "import scipy.stats as stats\n",
    "import re\n",
    "\n",
    "nfl_df=pd.read_csv(\"assets/nfl.csv\")\n",
    "cities=pd.read_html(\"assets/wikipedia_data.html\")[1]\n",
    "cities=cities.iloc[:-1,[0,3,5,6,7,8]]"
   ]
  },
  {
   "cell_type": "code",
   "execution_count": 16,
   "metadata": {},
   "outputs": [],
   "source": [
    "nfl_2018 = etl_big4('nfl')\n",
    "nfl_2018['team'] = nfl_2018['team'].str.replace('\\+','', regex=True)\n",
    "\n",
    "cities_nfl = etl_cities('nfl',3)"
   ]
  },
  {
   "cell_type": "code",
   "execution_count": 17,
   "metadata": {},
   "outputs": [
    {
     "data": {
      "text/html": [
       "<div>\n",
       "<style scoped>\n",
       "    .dataframe tbody tr th:only-of-type {\n",
       "        vertical-align: middle;\n",
       "    }\n",
       "\n",
       "    .dataframe tbody tr th {\n",
       "        vertical-align: top;\n",
       "    }\n",
       "\n",
       "    .dataframe thead th {\n",
       "        text-align: right;\n",
       "    }\n",
       "</style>\n",
       "<table border=\"1\" class=\"dataframe\">\n",
       "  <thead>\n",
       "    <tr style=\"text-align: right;\">\n",
       "      <th></th>\n",
       "      <th>WLRatio</th>\n",
       "      <th>Population</th>\n",
       "    </tr>\n",
       "    <tr>\n",
       "      <th>Metropolitan area</th>\n",
       "      <th></th>\n",
       "      <th></th>\n",
       "    </tr>\n",
       "  </thead>\n",
       "  <tbody>\n",
       "    <tr>\n",
       "      <th>Atlanta</th>\n",
       "      <td>0.437500</td>\n",
       "      <td>5.789700e+06</td>\n",
       "    </tr>\n",
       "    <tr>\n",
       "      <th>Baltimore</th>\n",
       "      <td>0.625000</td>\n",
       "      <td>2.798886e+06</td>\n",
       "    </tr>\n",
       "    <tr>\n",
       "      <th>Boston</th>\n",
       "      <td>0.687500</td>\n",
       "      <td>4.794447e+06</td>\n",
       "    </tr>\n",
       "    <tr>\n",
       "      <th>Buffalo</th>\n",
       "      <td>0.375000</td>\n",
       "      <td>1.132804e+06</td>\n",
       "    </tr>\n",
       "    <tr>\n",
       "      <th>Charlotte</th>\n",
       "      <td>0.437500</td>\n",
       "      <td>2.474314e+06</td>\n",
       "    </tr>\n",
       "    <tr>\n",
       "      <th>Chicago</th>\n",
       "      <td>0.750000</td>\n",
       "      <td>9.512999e+06</td>\n",
       "    </tr>\n",
       "    <tr>\n",
       "      <th>Cincinnati</th>\n",
       "      <td>0.375000</td>\n",
       "      <td>2.165139e+06</td>\n",
       "    </tr>\n",
       "    <tr>\n",
       "      <th>Cleveland</th>\n",
       "      <td>0.466667</td>\n",
       "      <td>2.055612e+06</td>\n",
       "    </tr>\n",
       "    <tr>\n",
       "      <th>Dallas–Fort Worth</th>\n",
       "      <td>0.625000</td>\n",
       "      <td>7.233323e+06</td>\n",
       "    </tr>\n",
       "    <tr>\n",
       "      <th>Denver</th>\n",
       "      <td>0.375000</td>\n",
       "      <td>2.853077e+06</td>\n",
       "    </tr>\n",
       "    <tr>\n",
       "      <th>Detroit</th>\n",
       "      <td>0.375000</td>\n",
       "      <td>4.297617e+06</td>\n",
       "    </tr>\n",
       "    <tr>\n",
       "      <th>Green Bay</th>\n",
       "      <td>0.400000</td>\n",
       "      <td>3.182360e+05</td>\n",
       "    </tr>\n",
       "    <tr>\n",
       "      <th>Houston</th>\n",
       "      <td>0.687500</td>\n",
       "      <td>6.772470e+06</td>\n",
       "    </tr>\n",
       "    <tr>\n",
       "      <th>Indianapolis</th>\n",
       "      <td>0.625000</td>\n",
       "      <td>2.004230e+06</td>\n",
       "    </tr>\n",
       "    <tr>\n",
       "      <th>Jacksonville</th>\n",
       "      <td>0.312500</td>\n",
       "      <td>1.478212e+06</td>\n",
       "    </tr>\n",
       "    <tr>\n",
       "      <th>Kansas City</th>\n",
       "      <td>0.750000</td>\n",
       "      <td>2.104509e+06</td>\n",
       "    </tr>\n",
       "    <tr>\n",
       "      <th>Los Angeles</th>\n",
       "      <td>0.781250</td>\n",
       "      <td>6.655224e+14</td>\n",
       "    </tr>\n",
       "    <tr>\n",
       "      <th>Miami–Fort Lauderdale</th>\n",
       "      <td>0.437500</td>\n",
       "      <td>6.066387e+06</td>\n",
       "    </tr>\n",
       "    <tr>\n",
       "      <th>Minneapolis–Saint Paul</th>\n",
       "      <td>0.533333</td>\n",
       "      <td>3.551036e+06</td>\n",
       "    </tr>\n",
       "    <tr>\n",
       "      <th>Nashville</th>\n",
       "      <td>0.562500</td>\n",
       "      <td>1.865298e+06</td>\n",
       "    </tr>\n",
       "    <tr>\n",
       "      <th>New Orleans</th>\n",
       "      <td>0.812500</td>\n",
       "      <td>1.268883e+06</td>\n",
       "    </tr>\n",
       "    <tr>\n",
       "      <th>New York City</th>\n",
       "      <td>0.281250</td>\n",
       "      <td>1.007682e+15</td>\n",
       "    </tr>\n",
       "    <tr>\n",
       "      <th>Philadelphia</th>\n",
       "      <td>0.562500</td>\n",
       "      <td>6.070500e+06</td>\n",
       "    </tr>\n",
       "    <tr>\n",
       "      <th>Phoenix</th>\n",
       "      <td>0.187500</td>\n",
       "      <td>4.661537e+06</td>\n",
       "    </tr>\n",
       "    <tr>\n",
       "      <th>Pittsburgh</th>\n",
       "      <td>0.600000</td>\n",
       "      <td>2.342299e+06</td>\n",
       "    </tr>\n",
       "    <tr>\n",
       "      <th>San Francisco Bay Area</th>\n",
       "      <td>0.250000</td>\n",
       "      <td>3.328991e+13</td>\n",
       "    </tr>\n",
       "    <tr>\n",
       "      <th>Seattle</th>\n",
       "      <td>0.625000</td>\n",
       "      <td>3.798902e+06</td>\n",
       "    </tr>\n",
       "    <tr>\n",
       "      <th>Tampa Bay Area</th>\n",
       "      <td>0.312500</td>\n",
       "      <td>3.032171e+06</td>\n",
       "    </tr>\n",
       "    <tr>\n",
       "      <th>Washington, D.C.</th>\n",
       "      <td>0.437500</td>\n",
       "      <td>6.131977e+06</td>\n",
       "    </tr>\n",
       "  </tbody>\n",
       "</table>\n",
       "</div>"
      ],
      "text/plain": [
       "                         WLRatio    Population\n",
       "Metropolitan area                             \n",
       "Atlanta                 0.437500  5.789700e+06\n",
       "Baltimore               0.625000  2.798886e+06\n",
       "Boston                  0.687500  4.794447e+06\n",
       "Buffalo                 0.375000  1.132804e+06\n",
       "Charlotte               0.437500  2.474314e+06\n",
       "Chicago                 0.750000  9.512999e+06\n",
       "Cincinnati              0.375000  2.165139e+06\n",
       "Cleveland               0.466667  2.055612e+06\n",
       "Dallas–Fort Worth       0.625000  7.233323e+06\n",
       "Denver                  0.375000  2.853077e+06\n",
       "Detroit                 0.375000  4.297617e+06\n",
       "Green Bay               0.400000  3.182360e+05\n",
       "Houston                 0.687500  6.772470e+06\n",
       "Indianapolis            0.625000  2.004230e+06\n",
       "Jacksonville            0.312500  1.478212e+06\n",
       "Kansas City             0.750000  2.104509e+06\n",
       "Los Angeles             0.781250  6.655224e+14\n",
       "Miami–Fort Lauderdale   0.437500  6.066387e+06\n",
       "Minneapolis–Saint Paul  0.533333  3.551036e+06\n",
       "Nashville               0.562500  1.865298e+06\n",
       "New Orleans             0.812500  1.268883e+06\n",
       "New York City           0.281250  1.007682e+15\n",
       "Philadelphia            0.562500  6.070500e+06\n",
       "Phoenix                 0.187500  4.661537e+06\n",
       "Pittsburgh              0.600000  2.342299e+06\n",
       "San Francisco Bay Area  0.250000  3.328991e+13\n",
       "Seattle                 0.625000  3.798902e+06\n",
       "Tampa Bay Area          0.312500  3.032171e+06\n",
       "Washington, D.C.        0.437500  6.131977e+06"
      ]
     },
     "execution_count": 17,
     "metadata": {},
     "output_type": "execute_result"
    }
   ],
   "source": [
    "q4_merge=pd.merge(cities_nfl,nfl_2018,'outer', on = 'team')\n",
    "q4_merge = q4_merge.groupby('Metropolitan area').agg({'WLRatio': np.nanmean, 'Population': np.nanmean})\n",
    "q4_merge"
   ]
  },
  {
   "cell_type": "code",
   "execution_count": 18,
   "metadata": {},
   "outputs": [
    {
     "data": {
      "text/plain": [
       "(-0.049839450556883366, 0.7973739749607349)"
      ]
     },
     "execution_count": 18,
     "metadata": {},
     "output_type": "execute_result"
    }
   ],
   "source": [
    "population_by_region = q4_merge['Population'] # pass in metropolitan area population from cities\n",
    "win_loss_by_region = q4_merge['WLRatio'] # pass in win/loss ratio from nfl_df in the same order as cities[\"Metropolitan area\"]\n",
    "\n",
    "assert len(population_by_region) == len(win_loss_by_region), \"Q4: Your lists must be the same length\"\n",
    "assert len(population_by_region) == 29, \"Q4: There should be 29 teams being analysed for NFL\"\n",
    "\n",
    "stats.pearsonr(population_by_region, win_loss_by_region)"
   ]
  },
  {
   "cell_type": "markdown",
   "metadata": {},
   "source": [
    "## Question 5\n",
    "In this question I would like you to explore the hypothesis that **given that an area has two sports teams in different sports, those teams will perform the same within their respective sports**. How I would like to see this explored is with a series of paired t-tests (so use [`ttest_rel`](https://docs.scipy.org/doc/scipy/reference/generated/scipy.stats.ttest_rel.html)) between all pairs of sports. Are there any sports where we can reject the null hypothesis? Again, average values where a sport has multiple teams in one region. Remember, you will only be including, for each sport, cities which have teams engaged in that sport, drop others as appropriate. This question is worth 20% of the grade for this assignment."
   ]
  },
  {
   "cell_type": "code",
   "execution_count": 52,
   "metadata": {},
   "outputs": [],
   "source": [
    "# Note: p_values is a full dataframe, so df.loc[\"NFL\",\"NBA\"] should be the same as df.loc[\"NBA\",\"NFL\"] and\n",
    "# df.loc[\"NFL\",\"NFL\"] should return np.nan\n",
    "sports = ['NFL', 'NBA', 'NHL', 'MLB']\n",
    "p_values = pd.DataFrame({k:np.nan for k in sports}, index=sports)"
   ]
  },
  {
   "cell_type": "code",
   "execution_count": 48,
   "metadata": {},
   "outputs": [
    {
     "data": {
      "text/html": [
       "<div>\n",
       "<style scoped>\n",
       "    .dataframe tbody tr th:only-of-type {\n",
       "        vertical-align: middle;\n",
       "    }\n",
       "\n",
       "    .dataframe tbody tr th {\n",
       "        vertical-align: top;\n",
       "    }\n",
       "\n",
       "    .dataframe thead th {\n",
       "        text-align: right;\n",
       "    }\n",
       "</style>\n",
       "<table border=\"1\" class=\"dataframe\">\n",
       "  <thead>\n",
       "    <tr style=\"text-align: right;\">\n",
       "      <th></th>\n",
       "      <th>NFL</th>\n",
       "      <th>NBA</th>\n",
       "      <th>NHL</th>\n",
       "      <th>MLB</th>\n",
       "    </tr>\n",
       "  </thead>\n",
       "  <tbody>\n",
       "    <tr>\n",
       "      <th>NFL</th>\n",
       "      <td>NaN</td>\n",
       "      <td>NaN</td>\n",
       "      <td>NaN</td>\n",
       "      <td>NaN</td>\n",
       "    </tr>\n",
       "    <tr>\n",
       "      <th>NBA</th>\n",
       "      <td>NaN</td>\n",
       "      <td>NaN</td>\n",
       "      <td>NaN</td>\n",
       "      <td>NaN</td>\n",
       "    </tr>\n",
       "    <tr>\n",
       "      <th>NHL</th>\n",
       "      <td>NaN</td>\n",
       "      <td>NaN</td>\n",
       "      <td>NaN</td>\n",
       "      <td>NaN</td>\n",
       "    </tr>\n",
       "    <tr>\n",
       "      <th>MLB</th>\n",
       "      <td>NaN</td>\n",
       "      <td>NaN</td>\n",
       "      <td>NaN</td>\n",
       "      <td>NaN</td>\n",
       "    </tr>\n",
       "  </tbody>\n",
       "</table>\n",
       "</div>"
      ],
      "text/plain": [
       "     NFL  NBA  NHL  MLB\n",
       "NFL  NaN  NaN  NaN  NaN\n",
       "NBA  NaN  NaN  NaN  NaN\n",
       "NHL  NaN  NaN  NaN  NaN\n",
       "MLB  NaN  NaN  NaN  NaN"
      ]
     },
     "execution_count": 48,
     "metadata": {},
     "output_type": "execute_result"
    }
   ],
   "source": [
    "p_values"
   ]
  },
  {
   "cell_type": "code",
   "execution_count": 49,
   "metadata": {},
   "outputs": [],
   "source": [
    "nhl_merge = q1_merge.drop('Population',axis=1)\n",
    "nba_merge = q2_merge.drop('Population',axis=1)\n",
    "mlb_merge = q3_merge.drop('Population',axis=1)\n",
    "nfl_merge = q4_merge.drop('Population',axis=1)"
   ]
  },
  {
   "cell_type": "markdown",
   "metadata": {},
   "source": [
    "[\"NBA\", \"NHL\"]"
   ]
  },
  {
   "cell_type": "code",
   "execution_count": 50,
   "metadata": {},
   "outputs": [],
   "source": [
    "def to_merge(sport):\n",
    "    if sport == 'NFL':\n",
    "        return nfl_merge\n",
    "    elif sport == 'NBA':\n",
    "        return nba_merge\n",
    "    elif sport == 'NHL':\n",
    "        return nhl_merge\n",
    "    elif sport == 'MLB':\n",
    "        return mlb_merge\n"
   ]
  },
  {
   "cell_type": "code",
   "execution_count": 53,
   "metadata": {},
   "outputs": [
    {
     "data": {
      "text/html": [
       "<div>\n",
       "<style scoped>\n",
       "    .dataframe tbody tr th:only-of-type {\n",
       "        vertical-align: middle;\n",
       "    }\n",
       "\n",
       "    .dataframe tbody tr th {\n",
       "        vertical-align: top;\n",
       "    }\n",
       "\n",
       "    .dataframe thead th {\n",
       "        text-align: right;\n",
       "    }\n",
       "</style>\n",
       "<table border=\"1\" class=\"dataframe\">\n",
       "  <thead>\n",
       "    <tr style=\"text-align: right;\">\n",
       "      <th></th>\n",
       "      <th>NFL</th>\n",
       "      <th>NBA</th>\n",
       "      <th>NHL</th>\n",
       "      <th>MLB</th>\n",
       "    </tr>\n",
       "  </thead>\n",
       "  <tbody>\n",
       "    <tr>\n",
       "      <th>NFL</th>\n",
       "      <td>NaN</td>\n",
       "      <td>0.941792</td>\n",
       "      <td>0.030883</td>\n",
       "      <td>0.802069</td>\n",
       "    </tr>\n",
       "    <tr>\n",
       "      <th>NBA</th>\n",
       "      <td>0.941792</td>\n",
       "      <td>NaN</td>\n",
       "      <td>0.022297</td>\n",
       "      <td>0.950540</td>\n",
       "    </tr>\n",
       "    <tr>\n",
       "      <th>NHL</th>\n",
       "      <td>0.030883</td>\n",
       "      <td>0.022297</td>\n",
       "      <td>NaN</td>\n",
       "      <td>0.000708</td>\n",
       "    </tr>\n",
       "    <tr>\n",
       "      <th>MLB</th>\n",
       "      <td>0.802069</td>\n",
       "      <td>0.950540</td>\n",
       "      <td>0.000708</td>\n",
       "      <td>NaN</td>\n",
       "    </tr>\n",
       "  </tbody>\n",
       "</table>\n",
       "</div>"
      ],
      "text/plain": [
       "          NFL       NBA       NHL       MLB\n",
       "NFL       NaN  0.941792  0.030883  0.802069\n",
       "NBA  0.941792       NaN  0.022297  0.950540\n",
       "NHL  0.030883  0.022297       NaN  0.000708\n",
       "MLB  0.802069  0.950540  0.000708       NaN"
      ]
     },
     "execution_count": 53,
     "metadata": {},
     "output_type": "execute_result"
    }
   ],
   "source": [
    "from scipy.stats import ttest_rel\n",
    "\n",
    "sports = ['NFL', 'NBA', 'NHL', 'MLB']\n",
    "\n",
    "for i in sports:\n",
    "    for j in sports:\n",
    "        if i !=j :\n",
    "            merged=pd.merge(to_merge(i),to_merge(j),'inner', on = ['Metropolitan area'])\n",
    "            p_values.loc[i,j]=ttest_rel(merged['WLRatio_x'], merged['WLRatio_y'])[1]\n",
    "\n",
    "p_values\n",
    "\n"
   ]
  },
  {
   "cell_type": "code",
   "execution_count": 27,
   "metadata": {},
   "outputs": [
    {
     "data": {
      "text/html": [
       "<div>\n",
       "<style scoped>\n",
       "    .dataframe tbody tr th:only-of-type {\n",
       "        vertical-align: middle;\n",
       "    }\n",
       "\n",
       "    .dataframe tbody tr th {\n",
       "        vertical-align: top;\n",
       "    }\n",
       "\n",
       "    .dataframe thead th {\n",
       "        text-align: right;\n",
       "    }\n",
       "</style>\n",
       "<table border=\"1\" class=\"dataframe\">\n",
       "  <thead>\n",
       "    <tr style=\"text-align: right;\">\n",
       "      <th></th>\n",
       "      <th>WLRatio_x</th>\n",
       "      <th>WLRatio_y</th>\n",
       "    </tr>\n",
       "    <tr>\n",
       "      <th>Metropolitan area</th>\n",
       "      <th></th>\n",
       "      <th></th>\n",
       "    </tr>\n",
       "  </thead>\n",
       "  <tbody>\n",
       "    <tr>\n",
       "      <th>Boston</th>\n",
       "      <td>0.714286</td>\n",
       "      <td>0.670732</td>\n",
       "    </tr>\n",
       "    <tr>\n",
       "      <th>Chicago</th>\n",
       "      <td>0.458333</td>\n",
       "      <td>0.329268</td>\n",
       "    </tr>\n",
       "    <tr>\n",
       "      <th>Dallas–Fort Worth</th>\n",
       "      <td>0.567568</td>\n",
       "      <td>0.292683</td>\n",
       "    </tr>\n",
       "    <tr>\n",
       "      <th>Denver</th>\n",
       "      <td>0.589041</td>\n",
       "      <td>0.560976</td>\n",
       "    </tr>\n",
       "    <tr>\n",
       "      <th>Detroit</th>\n",
       "      <td>0.434783</td>\n",
       "      <td>0.475610</td>\n",
       "    </tr>\n",
       "    <tr>\n",
       "      <th>Los Angeles</th>\n",
       "      <td>0.622895</td>\n",
       "      <td>0.469512</td>\n",
       "    </tr>\n",
       "    <tr>\n",
       "      <th>Miami–Fort Lauderdale</th>\n",
       "      <td>0.594595</td>\n",
       "      <td>0.536585</td>\n",
       "    </tr>\n",
       "    <tr>\n",
       "      <th>Minneapolis–Saint Paul</th>\n",
       "      <td>0.633803</td>\n",
       "      <td>0.573171</td>\n",
       "    </tr>\n",
       "    <tr>\n",
       "      <th>New York City</th>\n",
       "      <td>0.518201</td>\n",
       "      <td>0.347561</td>\n",
       "    </tr>\n",
       "    <tr>\n",
       "      <th>Philadelphia</th>\n",
       "      <td>0.617647</td>\n",
       "      <td>0.634146</td>\n",
       "    </tr>\n",
       "    <tr>\n",
       "      <th>Phoenix</th>\n",
       "      <td>0.414286</td>\n",
       "      <td>0.256098</td>\n",
       "    </tr>\n",
       "    <tr>\n",
       "      <th>San Francisco Bay Area</th>\n",
       "      <td>0.625000</td>\n",
       "      <td>0.707317</td>\n",
       "    </tr>\n",
       "    <tr>\n",
       "      <th>Toronto</th>\n",
       "      <td>0.653333</td>\n",
       "      <td>0.719512</td>\n",
       "    </tr>\n",
       "    <tr>\n",
       "      <th>Washington, D.C.</th>\n",
       "      <td>0.653333</td>\n",
       "      <td>0.524390</td>\n",
       "    </tr>\n",
       "  </tbody>\n",
       "</table>\n",
       "</div>"
      ],
      "text/plain": [
       "                        WLRatio_x  WLRatio_y\n",
       "Metropolitan area                           \n",
       "Boston                   0.714286   0.670732\n",
       "Chicago                  0.458333   0.329268\n",
       "Dallas–Fort Worth        0.567568   0.292683\n",
       "Denver                   0.589041   0.560976\n",
       "Detroit                  0.434783   0.475610\n",
       "Los Angeles              0.622895   0.469512\n",
       "Miami–Fort Lauderdale    0.594595   0.536585\n",
       "Minneapolis–Saint Paul   0.633803   0.573171\n",
       "New York City            0.518201   0.347561\n",
       "Philadelphia             0.617647   0.634146\n",
       "Phoenix                  0.414286   0.256098\n",
       "San Francisco Bay Area   0.625000   0.707317\n",
       "Toronto                  0.653333   0.719512\n",
       "Washington, D.C.         0.653333   0.524390"
      ]
     },
     "execution_count": 27,
     "metadata": {},
     "output_type": "execute_result"
    }
   ],
   "source": [
    "# test\n",
    "merge_nhl_nba=pd.merge(nhl_merge,nba_merge,'inner', on = ['Metropolitan area'])\n",
    "merge_nhl_nba"
   ]
  },
  {
   "cell_type": "code",
   "execution_count": 28,
   "metadata": {},
   "outputs": [
    {
     "data": {
      "text/plain": [
       "0.14436675651787648"
      ]
     },
     "execution_count": 28,
     "metadata": {},
     "output_type": "execute_result"
    }
   ],
   "source": [
    "from scipy.stats import ttest_ind\n",
    "pvalue_nhl_nba = ttest_ind(merge_nhl_nba['WLRatio_x'], merge_nhl_nba['WLRatio_y'])[1]\n",
    "pvalue_nhl_nba"
   ]
  },
  {
   "cell_type": "markdown",
   "metadata": {},
   "source": [
    "[\"MLB\", \"NFL\"] "
   ]
  },
  {
   "cell_type": "code",
   "execution_count": 29,
   "metadata": {},
   "outputs": [
    {
     "data": {
      "text/html": [
       "<div>\n",
       "<style scoped>\n",
       "    .dataframe tbody tr th:only-of-type {\n",
       "        vertical-align: middle;\n",
       "    }\n",
       "\n",
       "    .dataframe tbody tr th {\n",
       "        vertical-align: top;\n",
       "    }\n",
       "\n",
       "    .dataframe thead th {\n",
       "        text-align: right;\n",
       "    }\n",
       "</style>\n",
       "<table border=\"1\" class=\"dataframe\">\n",
       "  <thead>\n",
       "    <tr style=\"text-align: right;\">\n",
       "      <th></th>\n",
       "      <th>WLRatio_x</th>\n",
       "      <th>WLRatio_y</th>\n",
       "    </tr>\n",
       "    <tr>\n",
       "      <th>Metropolitan area</th>\n",
       "      <th></th>\n",
       "      <th></th>\n",
       "    </tr>\n",
       "  </thead>\n",
       "  <tbody>\n",
       "    <tr>\n",
       "      <th>Atlanta</th>\n",
       "      <td>0.555556</td>\n",
       "      <td>0.437500</td>\n",
       "    </tr>\n",
       "    <tr>\n",
       "      <th>Baltimore</th>\n",
       "      <td>0.290123</td>\n",
       "      <td>0.625000</td>\n",
       "    </tr>\n",
       "    <tr>\n",
       "      <th>Boston</th>\n",
       "      <td>0.666667</td>\n",
       "      <td>0.687500</td>\n",
       "    </tr>\n",
       "    <tr>\n",
       "      <th>Chicago</th>\n",
       "      <td>0.482769</td>\n",
       "      <td>0.750000</td>\n",
       "    </tr>\n",
       "    <tr>\n",
       "      <th>Cincinnati</th>\n",
       "      <td>0.413580</td>\n",
       "      <td>0.375000</td>\n",
       "    </tr>\n",
       "    <tr>\n",
       "      <th>Cleveland</th>\n",
       "      <td>0.561728</td>\n",
       "      <td>0.466667</td>\n",
       "    </tr>\n",
       "    <tr>\n",
       "      <th>Dallas–Fort Worth</th>\n",
       "      <td>0.413580</td>\n",
       "      <td>0.625000</td>\n",
       "    </tr>\n",
       "    <tr>\n",
       "      <th>Denver</th>\n",
       "      <td>0.558282</td>\n",
       "      <td>0.375000</td>\n",
       "    </tr>\n",
       "    <tr>\n",
       "      <th>Detroit</th>\n",
       "      <td>0.395062</td>\n",
       "      <td>0.375000</td>\n",
       "    </tr>\n",
       "    <tr>\n",
       "      <th>Houston</th>\n",
       "      <td>0.635802</td>\n",
       "      <td>0.687500</td>\n",
       "    </tr>\n",
       "    <tr>\n",
       "      <th>Kansas City</th>\n",
       "      <td>0.358025</td>\n",
       "      <td>0.750000</td>\n",
       "    </tr>\n",
       "    <tr>\n",
       "      <th>Los Angeles</th>\n",
       "      <td>0.529122</td>\n",
       "      <td>0.781250</td>\n",
       "    </tr>\n",
       "    <tr>\n",
       "      <th>Miami–Fort Lauderdale</th>\n",
       "      <td>0.391304</td>\n",
       "      <td>0.437500</td>\n",
       "    </tr>\n",
       "    <tr>\n",
       "      <th>Minneapolis–Saint Paul</th>\n",
       "      <td>0.481481</td>\n",
       "      <td>0.533333</td>\n",
       "    </tr>\n",
       "    <tr>\n",
       "      <th>New York City</th>\n",
       "      <td>0.546296</td>\n",
       "      <td>0.281250</td>\n",
       "    </tr>\n",
       "    <tr>\n",
       "      <th>Philadelphia</th>\n",
       "      <td>0.493827</td>\n",
       "      <td>0.562500</td>\n",
       "    </tr>\n",
       "    <tr>\n",
       "      <th>Phoenix</th>\n",
       "      <td>0.506173</td>\n",
       "      <td>0.187500</td>\n",
       "    </tr>\n",
       "    <tr>\n",
       "      <th>Pittsburgh</th>\n",
       "      <td>0.509317</td>\n",
       "      <td>0.600000</td>\n",
       "    </tr>\n",
       "    <tr>\n",
       "      <th>San Francisco Bay Area</th>\n",
       "      <td>0.524691</td>\n",
       "      <td>0.250000</td>\n",
       "    </tr>\n",
       "    <tr>\n",
       "      <th>Seattle</th>\n",
       "      <td>0.549383</td>\n",
       "      <td>0.625000</td>\n",
       "    </tr>\n",
       "    <tr>\n",
       "      <th>Tampa Bay Area</th>\n",
       "      <td>0.555556</td>\n",
       "      <td>0.312500</td>\n",
       "    </tr>\n",
       "    <tr>\n",
       "      <th>Washington, D.C.</th>\n",
       "      <td>0.506173</td>\n",
       "      <td>0.437500</td>\n",
       "    </tr>\n",
       "  </tbody>\n",
       "</table>\n",
       "</div>"
      ],
      "text/plain": [
       "                        WLRatio_x  WLRatio_y\n",
       "Metropolitan area                           \n",
       "Atlanta                  0.555556   0.437500\n",
       "Baltimore                0.290123   0.625000\n",
       "Boston                   0.666667   0.687500\n",
       "Chicago                  0.482769   0.750000\n",
       "Cincinnati               0.413580   0.375000\n",
       "Cleveland                0.561728   0.466667\n",
       "Dallas–Fort Worth        0.413580   0.625000\n",
       "Denver                   0.558282   0.375000\n",
       "Detroit                  0.395062   0.375000\n",
       "Houston                  0.635802   0.687500\n",
       "Kansas City              0.358025   0.750000\n",
       "Los Angeles              0.529122   0.781250\n",
       "Miami–Fort Lauderdale    0.391304   0.437500\n",
       "Minneapolis–Saint Paul   0.481481   0.533333\n",
       "New York City            0.546296   0.281250\n",
       "Philadelphia             0.493827   0.562500\n",
       "Phoenix                  0.506173   0.187500\n",
       "Pittsburgh               0.509317   0.600000\n",
       "San Francisco Bay Area   0.524691   0.250000\n",
       "Seattle                  0.549383   0.625000\n",
       "Tampa Bay Area           0.555556   0.312500\n",
       "Washington, D.C.         0.506173   0.437500"
      ]
     },
     "execution_count": 29,
     "metadata": {},
     "output_type": "execute_result"
    }
   ],
   "source": [
    "# test\n",
    "merge_mlb_nfl=pd.merge(mlb_merge,nfl_merge,'inner', on = ['Metropolitan area'])\n",
    "merge_mlb_nfl"
   ]
  },
  {
   "cell_type": "code",
   "execution_count": 30,
   "metadata": {},
   "outputs": [
    {
     "data": {
      "text/plain": [
       "0.7969157377034162"
      ]
     },
     "execution_count": 30,
     "metadata": {},
     "output_type": "execute_result"
    }
   ],
   "source": [
    "from scipy.stats import ttest_ind\n",
    "pvalue_mlb_nfl = ttest_ind(merge_mlb_nfl['WLRatio_x'], merge_mlb_nfl['WLRatio_y'])[1]\n",
    "pvalue_mlb_nfl"
   ]
  },
  {
   "cell_type": "code",
   "execution_count": null,
   "metadata": {},
   "outputs": [],
   "source": []
  }
 ],
 "metadata": {
  "kernelspec": {
   "display_name": "Python 3.10.5 64-bit",
   "language": "python",
   "name": "python3"
  },
  "language_info": {
   "codemirror_mode": {
    "name": "ipython",
    "version": 3
   },
   "file_extension": ".py",
   "mimetype": "text/x-python",
   "name": "python",
   "nbconvert_exporter": "python",
   "pygments_lexer": "ipython3",
   "version": "3.10.5"
  },
  "orig_nbformat": 4,
  "vscode": {
   "interpreter": {
    "hash": "4bba7e2b24ea2d6c62673c3ed642d0129ead9d4c378b0ce2fb07275f742d82ac"
   }
  }
 },
 "nbformat": 4,
 "nbformat_minor": 2
}
